{
 "cells": [
  {
   "cell_type": "markdown",
   "metadata": {},
   "source": [
    "# Imports"
   ]
  },
  {
   "cell_type": "code",
   "execution_count": 2,
   "metadata": {
    "ExecuteTime": {
     "end_time": "2024-09-08T16:43:56.027004Z",
     "start_time": "2024-09-08T16:43:56.020054Z"
    }
   },
   "outputs": [],
   "source": [
    "import os\n",
    "import django\n",
    "from dotenv import load_dotenv\n",
    "from django.apps import apps\n",
    "\n",
    "load_dotenv()\n",
    "\n",
    "# Set the DJANGO_SETTINGS_MODULE environment variable\n",
    "os.environ.setdefault('DJANGO_SETTINGS_MODULE', 'server.settings')\n",
    "\n",
    "# Allow Django to run ORM operations even if it thinks it's in an async context\n",
    "os.environ[\"DJANGO_ALLOW_ASYNC_UNSAFE\"] = \"true\"\n",
    "\n",
    "# Only setup Django if not already populated\n",
    "if not apps.ready:\n",
    "    django.setup()\n",
    "\n",
    "# Python imports\n",
    "import json\n",
    "# Django imports\n",
    "from django.contrib.auth.models import User\n",
    "from django.contrib.sessions.models import Session\n",
    "# My Files\n",
    "from questionbank.models import QuestionBank, Question, Report\n",
    "from course.models import Course\n",
    "from bundle.models import Bundle\n",
    "from customuser.models import User\n",
    "from cart.models import Cart, CartItem"
   ]
  },
  {
   "cell_type": "markdown",
   "metadata": {},
   "source": [
    "# Question Bank"
   ]
  },
  {
   "cell_type": "code",
   "execution_count": 2,
   "metadata": {
    "ExecuteTime": {
     "end_time": "2024-09-08T16:43:56.168299Z",
     "start_time": "2024-09-08T16:43:56.161054Z"
    }
   },
   "outputs": [
    {
     "data": {
      "text/plain": [
       "<QuerySet [<QuestionBank: ETEA Question Bank>, <QuestionBank: NMDCAT Question Bank>, <QuestionBank: LUMS Question Bank>, <QuestionBank: GAT Question Bank>, <QuestionBank: SAT Question Bank>, <QuestionBank: UHS Question Bank>]>"
      ]
     },
     "execution_count": 2,
     "metadata": {},
     "output_type": "execute_result"
    }
   ],
   "source": [
    "QuestionBank.objects.all()"
   ]
  },
  {
   "cell_type": "code",
   "execution_count": 3,
   "metadata": {
    "ExecuteTime": {
     "end_time": "2024-09-08T16:43:56.191215Z",
     "start_time": "2024-09-08T16:43:56.185309Z"
    }
   },
   "outputs": [
    {
     "data": {
      "text/plain": [
       "<ImageFieldFile: QuestionBank/Images/1.jpg>"
      ]
     },
     "execution_count": 3,
     "metadata": {},
     "output_type": "execute_result"
    }
   ],
   "source": [
    "UHS_QB = QuestionBank.objects.get(name=\"UHS Question Bank\")\n",
    "UHS_QB.question_bank_image"
   ]
  },
  {
   "cell_type": "markdown",
   "metadata": {},
   "source": [
    "# Question"
   ]
  },
  {
   "cell_type": "code",
   "execution_count": 30,
   "metadata": {
    "ExecuteTime": {
     "end_time": "2024-09-08T16:43:56.263326Z",
     "start_time": "2024-09-08T16:43:56.255247Z"
    }
   },
   "outputs": [
    {
     "data": {
      "text/plain": [
       "<QuerySet [<Question: 1 - Identify the example/s of Static Equilibrium: I. A book lying on a horizontal table\n",
       "II. A building\n",
       "III. A bridge - Chemistry - UHS Question Bank>, <Question: 2 - The mass of earth on the basis of Newton's Law of Gravitation is given by: - Biology - UHS Question Bank>, <Question: 3 - Fusion and fission reactions are associated with: - Biology - UHS Question Bank>, <Question: 4 - What is the change in gravitational potential energy when a 7000 N elevator moves from street level to the top of a building 300 m above the street level? - Physics - UHS Question Bank>, <Question: 5 - A body of mass 0.025 kg attached to a spring is displaced through 0.1 m to the right of the equilibrium position. If the spring constant is 0.4 N/m and its velocity at the end of displacement is 0.4 m/sec then its total energy will be: - Biology - UHS Question Bank>, <Question: 6 - The unit of luminous intensity is: - Physics - UHS Question Bank>, <Question: 7 - If A = 2i + 3j - k, B = 4i + 2j - 2k. Find a vector X parallel to A but has the magnitude of B? - Logical Reasoning - UHS Question Bank>, <Question: 8 - If A = 3i + 6j - 2k then the unit vector parallel to A will be: - English - UHS Question Bank>, <Question: 9 - If V = lim Δr/Δt as Δt → 0, then V will be: - Chemistry - UHS Question Bank>, <Question: 10 - A ball is thrown vertically upward with the velocity of 98 m/sec, how high does the ball rise? - Physics - UHS Question Bank>, <Question: 11 - A particle is projected at an angle of 45° with a velocity of 9.8m/s. The horizontal range will be: (g=9.8 m/s²). - English - UHS Question Bank>, <Question: 12 - 1 radian = _____ degrees. - English - UHS Question Bank>, <Question: 13 - If L = r x p and r = position vector, p = linear momentum, then L in the equation will be: - Physics - UHS Question Bank>, <Question: 14 - The superposition of two light waves is called: - Biology - UHS Question Bank>, <Question: 15 - A convex lens of focal length 20 cm is used to form an erect image which is twice as large as the object. The position of the object will be ____ from the lens. - Chemistry - UHS Question Bank>, <Question: 16 - A system absorbs 1000 Joules of heat and delivers 600 Joules of work, while losing 100 Joules of heat by conduction to the atmosphere, the change in the internal energy of the system will be: - Logical Reasoning - UHS Question Bank>, <Question: 17 - A device that makes use of mutual induction for stepping up or down an alternating e.m.f. - Physics - UHS Question Bank>, <Question: 18 - In a circuit, there is a current of 5 amp which is changed such that the current falls to zero in 0.1 sec. If an average e.m.f. of 200 volts is induced, the self-inductance of the circuit will be: - English - UHS Question Bank>]>"
      ]
     },
     "execution_count": 30,
     "metadata": {},
     "output_type": "execute_result"
    }
   ],
   "source": [
    "Question.objects.all()"
   ]
  },
  {
   "cell_type": "code",
   "execution_count": 31,
   "metadata": {
    "ExecuteTime": {
     "end_time": "2024-09-08T16:43:56.294955Z",
     "start_time": "2024-09-08T16:43:56.287370Z"
    }
   },
   "outputs": [
    {
     "data": {
      "text/plain": [
       "UUID('d36c8b88-608d-467b-8410-5d5820b454ed')"
      ]
     },
     "execution_count": 31,
     "metadata": {},
     "output_type": "execute_result"
    }
   ],
   "source": [
    "q1 = Question.objects.get(question_text=\"Fusion and fission reactions are associated with:\")\n",
    "q1.id"
   ]
  },
  {
   "cell_type": "markdown",
   "metadata": {},
   "source": [
    "# Report"
   ]
  },
  {
   "cell_type": "code",
   "execution_count": 32,
   "metadata": {},
   "outputs": [
    {
     "data": {
      "text/plain": [
       "<QuerySet []>"
      ]
     },
     "execution_count": 32,
     "metadata": {},
     "output_type": "execute_result"
    }
   ],
   "source": [
    "Report.objects.all()"
   ]
  },
  {
   "cell_type": "markdown",
   "metadata": {},
   "source": [
    "# Course"
   ]
  },
  {
   "cell_type": "code",
   "execution_count": 33,
   "metadata": {
    "ExecuteTime": {
     "end_time": "2024-09-08T16:43:56.345539Z",
     "start_time": "2024-09-08T16:43:56.338956Z"
    }
   },
   "outputs": [
    {
     "data": {
      "text/plain": [
       "<QuerySet [<Course: ETEA Course>, <Course: NMDCAT Course>, <Course: ETEA 2020 Full Course>]>"
      ]
     },
     "execution_count": 33,
     "metadata": {},
     "output_type": "execute_result"
    }
   ],
   "source": [
    "Course.objects.all()"
   ]
  },
  {
   "cell_type": "code",
   "execution_count": 34,
   "metadata": {
    "ExecuteTime": {
     "end_time": "2024-09-08T16:43:56.456637Z",
     "start_time": "2024-09-08T16:43:56.449604Z"
    }
   },
   "outputs": [
    {
     "data": {
      "text/plain": [
       "UUID('d481bd93-9f0d-47c9-a9c1-58adb0128bdf')"
      ]
     },
     "execution_count": 34,
     "metadata": {},
     "output_type": "execute_result"
    }
   ],
   "source": [
    "ETEA_C = Course.objects.get(name=\"ETEA 2020 Full Course\")\n",
    "ETEA_C.id"
   ]
  },
  {
   "cell_type": "markdown",
   "metadata": {},
   "source": [
    "# Bundle"
   ]
  },
  {
   "cell_type": "code",
   "execution_count": 35,
   "metadata": {
    "ExecuteTime": {
     "end_time": "2024-09-08T16:43:56.574230Z",
     "start_time": "2024-09-08T16:43:56.566714Z"
    }
   },
   "outputs": [
    {
     "data": {
      "text/plain": [
       "<QuerySet [<Bundle: ETEA 2020 bundle>]>"
      ]
     },
     "execution_count": 35,
     "metadata": {},
     "output_type": "execute_result"
    }
   ],
   "source": [
    "Bundle.objects.all()"
   ]
  },
  {
   "cell_type": "code",
   "execution_count": 36,
   "metadata": {
    "ExecuteTime": {
     "end_time": "2024-09-08T16:43:56.641288Z",
     "start_time": "2024-09-08T16:43:56.634079Z"
    }
   },
   "outputs": [
    {
     "data": {
      "text/plain": [
       "UUID('ce720ac9-1fef-47ef-9407-dbcd1f458fb0')"
      ]
     },
     "execution_count": 36,
     "metadata": {},
     "output_type": "execute_result"
    }
   ],
   "source": [
    "ETEA_B = Bundle.objects.get(name=\"ETEA 2020 bundle\")\n",
    "ETEA_B.id"
   ]
  },
  {
   "cell_type": "markdown",
   "metadata": {},
   "source": [
    "# Student"
   ]
  },
  {
   "cell_type": "code",
   "execution_count": null,
   "metadata": {
    "ExecuteTime": {
     "end_time": "2024-09-08T16:43:56.716491Z",
     "start_time": "2024-09-08T16:43:56.709338Z"
    }
   },
   "outputs": [
    {
     "data": {
      "text/plain": [
       "<QuerySet [<Student: Abdullah Khurram>]>"
      ]
     },
     "execution_count": 3,
     "metadata": {},
     "output_type": "execute_result"
    }
   ],
   "source": [
    "User.objects.all()"
   ]
  },
  {
   "cell_type": "code",
   "execution_count": null,
   "metadata": {
    "ExecuteTime": {
     "end_time": "2024-09-08T16:43:56.766916Z",
     "start_time": "2024-09-08T16:43:56.759775Z"
    }
   },
   "outputs": [
    {
     "data": {
      "text/plain": [
       "<django.db.models.fields.related_descriptors.create_forward_many_to_many_manager.<locals>.ManyRelatedManager at 0x226ffa63ec0>"
      ]
     },
     "execution_count": 5,
     "metadata": {},
     "output_type": "execute_result"
    }
   ],
   "source": [
    "std1 = User.objects.get(first_name=\"Abdullah\")\n",
    "std1.taking_questionBanks"
   ]
  },
  {
   "cell_type": "markdown",
   "metadata": {},
   "source": [
    "# Admin User"
   ]
  },
  {
   "cell_type": "code",
   "execution_count": 39,
   "metadata": {
    "ExecuteTime": {
     "end_time": "2024-09-08T16:43:56.850801Z",
     "start_time": "2024-09-08T16:43:56.842997Z"
    }
   },
   "outputs": [
    {
     "data": {
      "text/plain": [
       "<QuerySet [<User: admin>]>"
      ]
     },
     "execution_count": 39,
     "metadata": {},
     "output_type": "execute_result"
    }
   ],
   "source": [
    "User.objects.all()"
   ]
  },
  {
   "cell_type": "code",
   "execution_count": 40,
   "metadata": {
    "ExecuteTime": {
     "end_time": "2024-09-08T16:43:56.938732Z",
     "start_time": "2024-09-08T16:43:56.933833Z"
    }
   },
   "outputs": [],
   "source": [
    "adminUser = User.objects.get(username=\"admin\")"
   ]
  },
  {
   "cell_type": "markdown",
   "metadata": {},
   "source": [
    "# Cart"
   ]
  },
  {
   "cell_type": "code",
   "execution_count": 41,
   "metadata": {
    "ExecuteTime": {
     "end_time": "2024-09-08T16:43:57.051496Z",
     "start_time": "2024-09-08T16:43:57.043770Z"
    }
   },
   "outputs": [
    {
     "data": {
      "text/plain": [
       "<QuerySet []>"
      ]
     },
     "execution_count": 41,
     "metadata": {},
     "output_type": "execute_result"
    }
   ],
   "source": [
    "Cart.objects.all()"
   ]
  },
  {
   "cell_type": "markdown",
   "metadata": {},
   "source": [
    "# Cart Item"
   ]
  },
  {
   "cell_type": "code",
   "execution_count": 42,
   "metadata": {
    "ExecuteTime": {
     "end_time": "2024-09-08T17:28:12.030812Z",
     "start_time": "2024-09-08T17:28:12.021602Z"
    }
   },
   "outputs": [
    {
     "data": {
      "text/plain": [
       "<QuerySet []>"
      ]
     },
     "execution_count": 42,
     "metadata": {},
     "output_type": "execute_result"
    }
   ],
   "source": [
    "CartItem.objects.all()"
   ]
  },
  {
   "cell_type": "markdown",
   "metadata": {},
   "source": [
    "# Sessions"
   ]
  },
  {
   "cell_type": "code",
   "execution_count": 5,
   "metadata": {},
   "outputs": [
    {
     "name": "stdout",
     "output_type": "stream",
     "text": [
      "Session key: fii9y8jc362y43jbozlqoh5j1dhglwye\n",
      "Session data: {\n",
      "    \"_auth_user_id\": \"1\",\n",
      "    \"_auth_user_backend\": \"django.contrib.auth.backends.ModelBackend\",\n",
      "    \"_auth_user_hash\": \"10f6bfbe84d1da0b1b248508fee5be48647e306c38f33ae847a592ea985edece\"\n",
      "}\n"
     ]
    }
   ],
   "source": [
    "sessions = Session.objects.all()\n",
    "\n",
    "for session in sessions:\n",
    "    session_data = session.get_decoded()\n",
    "    \n",
    "    print(f\"Session key: {session.session_key}\")\n",
    "    print(f\"Session data: {json.dumps(session_data, indent=4)}\")\n"
   ]
  },
  {
   "cell_type": "markdown",
   "metadata": {},
   "source": [
    "# Delete Sessions"
   ]
  },
  {
   "cell_type": "code",
   "execution_count": 3,
   "metadata": {},
   "outputs": [
    {
     "data": {
      "text/plain": [
       "(3, {'sessions.Session': 3})"
      ]
     },
     "execution_count": 3,
     "metadata": {},
     "output_type": "execute_result"
    }
   ],
   "source": [
    "Session.objects.all().delete()"
   ]
  },
  {
   "cell_type": "markdown",
   "metadata": {},
   "source": [
    "# Clerk Keys"
   ]
  },
  {
   "cell_type": "code",
   "execution_count": 6,
   "metadata": {},
   "outputs": [
    {
     "name": "stdout",
     "output_type": "stream",
     "text": [
      "'-----BEGIN PUBLIC KEY-----\n",
      "sk_test_JJ73XNmAnGEkng8RKW9T4Q9CyMXUclb0vAhq7fb337\n"
     ]
    }
   ],
   "source": [
    "clerk_public_key = os.getenv(\"CLERK_PEM_PUBLIC_KEY\")\n",
    "clerk_api_key = os.getenv(\"CLERK_SECRET_KEY\")\n",
    "print(clerk_public_key)\n",
    "print(clerk_api_key)"
   ]
  }
 ],
 "metadata": {
  "kernelspec": {
   "display_name": "Python 3",
   "language": "python",
   "name": "python3"
  },
  "language_info": {
   "codemirror_mode": {
    "name": "ipython",
    "version": 3
   },
   "file_extension": ".py",
   "mimetype": "text/x-python",
   "name": "python",
   "nbconvert_exporter": "python",
   "pygments_lexer": "ipython3",
   "version": "3.12.4"
  }
 },
 "nbformat": 4,
 "nbformat_minor": 2
}
